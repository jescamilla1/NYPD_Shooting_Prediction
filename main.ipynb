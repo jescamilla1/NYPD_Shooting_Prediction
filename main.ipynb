{
 "cells": [
  {
   "cell_type": "code",
   "execution_count": 25,
   "metadata": {},
   "outputs": [],
   "source": [
    "import csv\n",
    "import numpy as np\n",
    "import matplotlib.pyplot as plt\n",
    "import pandas as pd"
   ]
  },
  {
   "cell_type": "markdown",
   "metadata": {},
   "source": [
    "# Data Preprocessing\n",
    "- Removed unecessary columns and kept necessary data\n",
    "- Replaced nulls with unkown"
   ]
  },
  {
   "cell_type": "code",
   "execution_count": 38,
   "metadata": {},
   "outputs": [
    {
     "name": "stdout",
     "output_type": "stream",
     "text": [
      "           BORO LOC_OF_OCCUR_DESC  PRECINCT LOC_CLASSFCTN_DESC  \\\n",
      "0         BRONX           OUTSIDE        49             STREET   \n",
      "1         BRONX           OUTSIDE        52             STREET   \n",
      "2         BRONX           OUTSIDE        44            VEHICLE   \n",
      "3        QUEENS           OUTSIDE       113            HOUSING   \n",
      "4      BROOKLYN            INSIDE        77           DWELLING   \n",
      "...         ...               ...       ...                ...   \n",
      "1711      BRONX           OUTSIDE        48             STREET   \n",
      "1712  MANHATTAN           OUTSIDE        30             STREET   \n",
      "1713  MANHATTAN           OUTSIDE        32             STREET   \n",
      "1714      BRONX            INSIDE        46            HOUSING   \n",
      "1715      BRONX           OUTSIDE        45             STREET   \n",
      "\n",
      "     STATISTICAL_MURDER_FLAG PERP_AGE_GROUP PERP_SEX       PERP_RACE  \\\n",
      "0                          Y          18-24        M  BLACK HISPANIC   \n",
      "1                          N          25-44        M  WHITE HISPANIC   \n",
      "2                          N        UNKNOWN  UNKNOWN         UNKNOWN   \n",
      "3                          N        UNKNOWN  UNKNOWN         UNKNOWN   \n",
      "4                          N        UNKNOWN  UNKNOWN         UNKNOWN   \n",
      "...                      ...            ...      ...             ...   \n",
      "1711                       N        UNKNOWN  UNKNOWN         UNKNOWN   \n",
      "1712                       N          25-44        F  WHITE HISPANIC   \n",
      "1713                       N          18-24        M           BLACK   \n",
      "1714                       N          25-44        M           BLACK   \n",
      "1715                       N          18-24        M           BLACK   \n",
      "\n",
      "     VIC_AGE_GROUP VIC_SEX        VIC_RACE  \n",
      "0            18-24       F           BLACK  \n",
      "1            25-44       M  WHITE HISPANIC  \n",
      "2            25-44       M  WHITE HISPANIC  \n",
      "3            18-24       M           BLACK  \n",
      "4            25-44       F           BLACK  \n",
      "...            ...     ...             ...  \n",
      "1711         18-24       M           BLACK  \n",
      "1712         25-44       M  WHITE HISPANIC  \n",
      "1713         25-44       M           BLACK  \n",
      "1714         25-44       M  WHITE HISPANIC  \n",
      "1715         18-24       M           BLACK  \n",
      "\n",
      "[1716 rows x 11 columns]\n"
     ]
    }
   ],
   "source": [
    "dataset = pd.read_csv(\"./NYPD_Shooting_Incident_Data__Year_To_Date_.csv\")\n",
    "dataset = dataset.drop(columns=[\"INCIDENT_KEY\",\"OCCUR_DATE\", \"OCCUR_TIME\", \"JURISDICTION_CODE\", \"LOCATION_DESC\", \"X_COORD_CD\", \"Y_COORD_CD\", \"Longitude\", \"Latitude\", \"New Georeferenced Column\", \"Zip Codes\", \"Borough Boundaries\", \"City Council Districts\", \"Community Districts\", \"Police Precincts\"])\n",
    "\n",
    "dataset = dataset.replace({'(null)': None}) # change null into None so that we can remove\n",
    "dataset = dataset.fillna(\"UNKNOWN\") # Change Nulls into Unknown\n",
    "\n",
    "print(dataset)"
   ]
  },
  {
   "cell_type": "code",
   "execution_count": 36,
   "metadata": {},
   "outputs": [
    {
     "data": {
      "text/plain": [
       "BORO                       0\n",
       "LOC_OF_OCCUR_DESC          0\n",
       "PRECINCT                   0\n",
       "LOC_CLASSFCTN_DESC         0\n",
       "STATISTICAL_MURDER_FLAG    0\n",
       "PERP_AGE_GROUP             0\n",
       "PERP_SEX                   0\n",
       "PERP_RACE                  0\n",
       "VIC_AGE_GROUP              0\n",
       "VIC_SEX                    0\n",
       "VIC_RACE                   0\n",
       "dtype: int64"
      ]
     },
     "execution_count": 36,
     "metadata": {},
     "output_type": "execute_result"
    }
   ],
   "source": [
    "dataset.isnull().sum() # count amount of Null values\n"
   ]
  },
  {
   "cell_type": "markdown",
   "metadata": {},
   "source": [
    "We can use classification or clustering"
   ]
  },
  {
   "cell_type": "code",
   "execution_count": null,
   "metadata": {},
   "outputs": [],
   "source": []
  }
 ],
 "metadata": {
  "interpreter": {
   "hash": "a665b5d41d17b532ea9890333293a1b812fa0b73c9c25c950b3cedf1bebd0438"
  },
  "kernelspec": {
   "display_name": "Python 3.9.16 64-bit",
   "language": "python",
   "name": "python3"
  },
  "language_info": {
   "codemirror_mode": {
    "name": "ipython",
    "version": 3
   },
   "file_extension": ".py",
   "mimetype": "text/x-python",
   "name": "python",
   "nbconvert_exporter": "python",
   "pygments_lexer": "ipython3",
   "version": "3.9.16"
  },
  "orig_nbformat": 4
 },
 "nbformat": 4,
 "nbformat_minor": 2
}
